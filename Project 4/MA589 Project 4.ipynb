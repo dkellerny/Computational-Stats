{
 "cells": [
  {
   "cell_type": "code",
   "execution_count": 1,
   "metadata": {},
   "outputs": [],
   "source": [
    "# Load in packages\n",
    "import numpy as np\n",
    "import matplotlib as plt \n",
    "import matplotlib.pyplot as plt\n",
    "import seaborn as sns\n",
    "import scipy as sp\n",
    "import scipy.special as sc\n",
    "import pandas as pd\n",
    "import scipy.stats as stats\n",
    "from pprint import pprint"
   ]
  },
  {
   "cell_type": "code",
   "execution_count": 3,
   "metadata": {},
   "outputs": [
    {
     "name": "stdout",
     "output_type": "stream",
     "text": [
      "log_P_Y = -195.37119458534062\n"
     ]
    }
   ],
   "source": [
    "# Problem 1 a)\n",
    "# Using the forward algorithm to predict the most likely sequence state (latent)\n",
    "# given the data in 'cgh.csv' log_ratio\n",
    "\n",
    "observations = pd.read_csv('cgh.csv', header=None).values.flatten()\n",
    "log_ratio = [observations[i] for i in range(len(observations)) if i % 2 != 0]\n",
    "\n",
    "# Model parameters\n",
    "states = ['deleted', 'normal', 'duplicated']\n",
    "transition_probabilities = np.array([[0.50, 0.50, 0.00],\n",
    "                                     [0.05, 0.90, 0.05],\n",
    "                                     [0.00, 0.50, 0.50]])\n",
    "emission_means = np.array([-1, 0, 1])\n",
    "emission_stddevs = np.array([0.7, 0.5, 0.7])\n",
    "initial_probabilities = np.array([0, 1, 0])  \n",
    "\n",
    "num_states = len(states)\n",
    "num_observations = len(log_ratio)\n",
    "\n",
    "# Convert transition probabilities to log-space\n",
    "# Initialize the forward and transition matrix with a small number for log(0)\n",
    "epsilon = 1e-10\n",
    "transition_probabilities_eps = np.clip(transition_probabilities, epsilon, 1)\n",
    "log_transition_probabilities = np.log(transition_probabilities_eps)\n",
    "log_forward_matrix = np.full((num_observations, num_states), epsilon)\n",
    "\n",
    "# Start in the normal state\n",
    "log_forward_matrix[0,] = initial_probabilities * (-0.5 * (np.log(2 * np.pi * (emission_stddevs[1] ** 2)) + \\\n",
    "                           ((log_ratio[0] - emission_means[1]) / emission_stddevs[1]) ** 2))\n",
    "\n",
    "for t in range(1, num_observations):\n",
    "    for s in range(num_states):\n",
    "        log_emission_prob = -0.5 *( np.log(2 * np.pi * (emission_stddevs[s] ** 2)) + \\\n",
    "                             ((log_ratio[t] - emission_means[s]) / emission_stddevs[s]) ** 2)\n",
    "        log_probs = log_forward_matrix[t - 1, :] + log_transition_probabilities[:, s]\n",
    "        log_forward_matrix[t, s] = sc.logsumexp(log_probs) + log_emission_prob\n",
    "\n",
    "# Compute the log probability of the sequence\n",
    "log_P_Y = sc.logsumexp(log_forward_matrix[-1, :])\n",
    "print('log_P_Y =', log_P_Y)"
   ]
  },
  {
   "cell_type": "code",
   "execution_count": 4,
   "metadata": {},
   "outputs": [
    {
     "name": "stdout",
     "output_type": "stream",
     "text": [
      "X_hat = [2 2 2 2 2 2 2 1 1 1 2 2 2 2 2 2 2 2 2 2 2 2 2 2 2 2 2 2 2 2 2 3 3 3 3 3 3\n",
      " 3 3 3 2 2 2 2 2 2 2 2 2 2 2 2 2 2 2 2 2 2 2 2 2 2 2 1 1 1 1 1 1 2 2 2 2 2\n",
      " 2 2 2 2 2 2 2 2 2 2 2 1 1 1 1 1 1 1 1 1 1 1 2 2 2 2 2 2 2 2 2 2 2 2 2 2 2\n",
      " 2 2 2 2 2 2 2 2 2 2 2 2 2 2 2 2 2 2 1 1 1 1 1 1 1 1 2 2 2 2 2 2 2 2 2 2 2\n",
      " 2 2 2 2 2 2 2 3 3 3 3 3 2 2 2 2 2 2 2 2 2 2 2 2 2 2 2 2 2 2 2 2 2 2 2 2 2\n",
      " 2 2 2 2 2 2 2 2 2 2 2 2 2 2 2]\n",
      "mode(X_hat) = ModeResult(mode=2, count=158)\n",
      "log P(X_hat | Y) = -212.9374886468753\n"
     ]
    }
   ],
   "source": [
    "# Problem 1 b)\n",
    "\n",
    "# Use the Viterbi algorithm to find the MAP estimate for X. \n",
    "\n",
    "def viterbi_algorithm(log_ratio, log_transition_probabilities, emission_means, emission_stddevs):\n",
    "    num_states = log_transition_probabilities.shape[0]\n",
    "    num_observations = len(log_ratio)\n",
    "\n",
    "    log_probs = np.full((num_states, num_observations), -np.inf)\n",
    "    paths = np.zeros((num_states, num_observations), dtype=int)\n",
    "\n",
    "    # Initialization step\n",
    "    for s in range(num_states):\n",
    "        if s == 1:  \n",
    "            log_probs[s, 0] = (-0.5 * (np.log(2 * np.pi * (emission_stddevs[s] ** 2)) + \\\n",
    "                           ((log_ratio[0] - emission_means[s]) / emission_stddevs[s]) ** 2))\n",
    "        else:\n",
    "            log_probs[s, 0] = np.log(1e-10)\n",
    "\n",
    "    # Recursion step\n",
    "    for t in range(1, num_observations):\n",
    "        for s in range(num_states):\n",
    "            # Calculate log prob. of paths to state s\n",
    "            log_trans_probs = log_probs[:, t-1] + log_transition_probabilities[:, s]\n",
    "            # Calculate emission probability\n",
    "            log_emission_prob = (-0.5 * (np.log(2 * np.pi * (emission_stddevs[s] ** 2)) + \\\n",
    "                           ((log_ratio[t] - emission_means[s]) / emission_stddevs[s]) ** 2))\n",
    "            # Find maximum prob\n",
    "            log_probs[s, t] = np.max(log_trans_probs) + log_emission_prob\n",
    "            paths[s, t] = np.argmax(log_trans_probs)\n",
    "\n",
    "    # Find the state with the maximum probability\n",
    "    last_X = np.argmax(log_probs[:, num_observations-1])\n",
    "    max_log_prob = log_probs[last_X, num_observations-1]\n",
    "\n",
    "    # Build path by backtracking\n",
    "    optimal_path = np.zeros(num_observations, dtype=int)\n",
    "    optimal_path[-1] = last_X\n",
    "    for t in range(num_observations-2, -1, -1):\n",
    "        optimal_path[t] = paths[optimal_path[t+1], t+1]\n",
    "\n",
    "    return optimal_path, max_log_prob\n",
    "\n",
    "viterbi_path, log_p_viterbi_path = viterbi_algorithm(log_ratio, log_transition_probabilities, emission_means, emission_stddevs)\n",
    "\n",
    "# Index in description starts at 1\n",
    "X_hat = viterbi_path + 1\n",
    "print('X_hat =', X_hat)\n",
    "print('mode(X_hat) =', stats.mode(viterbi_path+1))\n",
    "print('log P(X_hat | Y) =', log_p_viterbi_path)"
   ]
  },
  {
   "cell_type": "code",
   "execution_count": 5,
   "metadata": {},
   "outputs": [
    {
     "name": "stderr",
     "output_type": "stream",
     "text": [
      "C:\\Users\\dkell\\AppData\\Local\\Temp\\ipykernel_6052\\2857632825.py:9: UserWarning: color is redundantly defined by the 'color' keyword argument and the fmt string \"r-\" (-> color='r'). The keyword argument will take precedence.\n",
      "  plt.plot(mapped_means, 'r-', label='Emission Means (Viterbi Path)', linewidth=2, color= 'grey')\n"
     ]
    },
    {
     "data": {
      "image/png": "[encoded data removed]",
      "text/plain": [
       "<Figure size 1400x700 with 1 Axes>"
      ]
     },
     "metadata": {},
     "output_type": "display_data"
    }
   ],
   "source": [
    "# Problem 1 c)\n",
    "\n",
    "# Plot the log_ratio Y and for each probe i, the corresponding mean, mu, \n",
    "# of the MAP estimate hat_X_i\n",
    "\n",
    "mapped_means = emission_means[viterbi_path]\n",
    "plt.figure(figsize=(14, 7))\n",
    "plt.scatter(np.arange(len(log_ratio)), log_ratio, label='Observations', alpha=0.5, s=10, color = 'navy')\n",
    "plt.plot(mapped_means, 'r-', label='Emission Means (Viterbi Path)', linewidth=2, color= 'grey')\n",
    "plt.title('Log CGH Ratio and Viterbi Path Means', fontsize = 18)\n",
    "plt.xlabel('Probe Index', fontsize=16)\n",
    "plt.ylabel('Log CGH Ratio', fontsize = 16)\n",
    "plt.legend()\n",
    "sns.despine()\n",
    "plt.grid(True)\n",
    "plt.show()"
   ]
  },
  {
   "cell_type": "markdown",
   "metadata": {},
   "source": [
    "1 c) The plot here shows that $\\hat{X}$ is a reasonable fit given the data $Y$, but with room for improvement. For example, our observations closely match the Viterbi path for our probe indices less than 45. Then, around probe index 50 we start to estimate that the state is normal when the observations appear to stray towards the duplicated state, a log ratio near 1. There are other deviations, for example in the range beyond 150, where we observe duplicated and deleted states even though the Viterbi Path indicates they are more likely to be normal.  "
   ]
  },
  {
   "cell_type": "code",
   "execution_count": 6,
   "metadata": {},
   "outputs": [
    {
     "name": "stdout",
     "output_type": "stream",
     "text": [
      "P(last is normal) = 0.9586746595772814\n",
      "likelihood_ratio: P(deleted)/P(duplicated) = 0.32166331646788093\n"
     ]
    }
   ],
   "source": [
    "# Probability lasy probe is truly 'normal' given Y, the log ratios\n",
    "# -> P(last is normal | Y) / sum_{last iterates} P(forward)\n",
    "P_normal_last_probe = np.exp(log_forward_matrix[-1, 1]) / np.sum(np.exp(log_forward_matrix[-1, :]))\n",
    "print('P(last is normal) =', P_normal_last_probe)\n",
    "\n",
    "# Ratio of probabilities for 'deleted' over 'duplicated' for the last probe\n",
    "P_deleted_last_probe = np.exp(log_forward_matrix[-1, 0])\n",
    "P_duplicated_last_probe = np.exp(log_forward_matrix[-1, 2])\n",
    "\n",
    "# How much more likely is 'deleted' than 'duplicated'\n",
    "likelihood_ratio = P_deleted_last_probe / P_duplicated_last_probe\n",
    "print('likelihood_ratio: P(deleted)/P(duplicated) =', likelihood_ratio)"
   ]
  },
  {
   "cell_type": "markdown",
   "metadata": {},
   "source": [
    "1 d) Given the observed CGH ratios, the probability the last probe is normal is approximately $0.96.$ Given the observed CGH ratios, the last probe is approximately $32.17\\%$ more likely to be deleted than it is to be duplicated. "
   ]
  },
  {
   "cell_type": "code",
   "execution_count": 7,
   "metadata": {},
   "outputs": [
    {
     "name": "stdout",
     "output_type": "stream",
     "text": [
      "log Z_x = 20.977851379333448\n"
     ]
    }
   ],
   "source": [
    "# Problem 2 a) \n",
    "\n",
    "# Forward algorithm for the log normalizing constant log Z_x. \n",
    "\n",
    "# The forward algorithm for a provided visitation order\n",
    "def forward_algorithm(visitation_order, neighbors):\n",
    "    messages = {node: np.ones(2) for node in visitation_order}\n",
    "    def calculate_message(current, messages, neighbors):\n",
    "        message = np.zeros(2)\n",
    "        for state in [0, 1]:\n",
    "            product = 1 \n",
    "            for neighbor in neighbors[current]:\n",
    "                product *= sum(np.exp(2 * abs(state - np.array([0, 1])) - 1) * messages[neighbor])\n",
    "            message[state] = product\n",
    "        return message\n",
    "    \n",
    "    # Iterate over the visitation order and compute the messages\n",
    "    for node in visitation_order:\n",
    "        messages[node] = calculate_message(node, messages, neighbors)\n",
    "        \n",
    "    Zx = sum(messages[visitation_order[-1]])\n",
    "    return Zx\n",
    "\n",
    "# Define the visitation order and the neighbors for each node\n",
    "visitation_order = [9, 6, 8, 7, 4, 1, 3, 2, 5]\n",
    "neighbors = {\n",
    "    1: [2],\n",
    "    2: [1, 3, 5],\n",
    "    3: [2],\n",
    "    4: [5, 7, 8],\n",
    "    5: [2, 4, 6],\n",
    "    6: [5, 9],\n",
    "    7: [4, 8],\n",
    "    8: [7],\n",
    "    9: [6]\n",
    "}\n",
    "\n",
    "Zx = forward_algorithm(visitation_order, neighbors)\n",
    "log_Zx = np.log(Zx)\n",
    "print('log Z_x =', log_Zx)"
   ]
  },
  {
   "cell_type": "code",
   "execution_count": 10,
   "metadata": {},
   "outputs": [
    {
     "name": "stdout",
     "output_type": "stream",
     "text": [
      "log_P_Y = -22.436160606080527\n"
     ]
    }
   ],
   "source": [
    "#Problem 2 b)\n",
    "\n",
    "# Configuration\n",
    "Y = np.array([2, 2, 2, 2, 0, 0, 1, 2, 1])\n",
    "mu = np.array([2, 0.5]) \n",
    "sigma_1 = 1  \n",
    "sigma_2 = 0.5\n",
    "sigma = np.array([sigma_1, sigma_2])\n",
    "\n",
    "# The local likelihood function for a node given the state\n",
    "def local_likelihood(Y_i, X_i, mu, sigma_1, sigma_2):\n",
    "    sigma = sigma_1 if X_i == 0 else sigma_2\n",
    "    return -0.5 * np.log(2 * np.pi * sigma**2) - ((Y_i - mu[X_i])**2) / (2 * sigma**2)\n",
    "\n",
    "# Find the likelihood for a given node\n",
    "def calculate_log_likelihood(node, log_messages, neighbors, Y, mu, sigma_1, sigma_2):\n",
    "    local_log_likelihoods = np.array([local_likelihood(Y[node-1], state, mu, sigma_1, sigma_2) for state in [0, 1]])\n",
    "    \n",
    "    if not neighbors[node]:\n",
    "        return local_log_likelihoods\n",
    "    \n",
    "    # Otherwise, calculate the message considering the states of its neighbors\n",
    "    log_message = np.full(2, np.log(1e-10))  \n",
    "    for state in [0, 1]:\n",
    "        neighbor_log_sums = []\n",
    "        for neighbor in neighbors[node]:\n",
    "            neighbor_log_messages = log_messages[neighbor]\n",
    "            neighbor_weights = np.array([2 * abs(state - neighbor_state) - 1 for neighbor_state in [0, 1]])\n",
    "            neighbor_log_sums.append(sc.logsumexp(neighbor_log_messages + neighbor_weights))\n",
    "        log_message[state] = sc.logsumexp(np.array(neighbor_log_sums)) + local_log_likelihoods[state]\n",
    "    return log_message\n",
    "\n",
    "log_messages = {node: np.full(2, -np.inf) for node in visitation_order}  # Start with log(0) for all messages\n",
    "log_messages[9] = np.array([local_likelihood(Y[8], state, mu, sigma_1, sigma_2) for state in [0, 1]])  # Base case for node 9\n",
    "\n",
    "# Find log messages by the visitation order\n",
    "for node in visitation_order[1:]:  \n",
    "    log_messages[node] = calculate_log_likelihood(node, log_messages, neighbors, Y, mu, sigma_1, sigma_2)\n",
    "\n",
    "final_log_message = sc.logsumexp(log_messages[visitation_order[-1]])\n",
    "\n",
    "log_P_Y = final_log_message - log_Zx\n",
    "print('log_P_Y =', log_P_Y)"
   ]
  },
  {
   "cell_type": "code",
   "execution_count": 11,
   "metadata": {},
   "outputs": [
    {
     "name": "stdout",
     "output_type": "stream",
     "text": [
      "hat_X = [0 0 1 1 1 0 0 1 0]\n",
      "P_hatX_given_Y = 8.479323088067295e-07\n",
      "log_P_MAP_given_Y = -13.98046502886102\n",
      "P_MAP_given_Y_normalized = 6.573491221463011e-16\n"
     ]
    }
   ],
   "source": [
    "# Problem 2 c)\n",
    "def compute_MAP(Y, visitation_order, neighbors, mu, sigma_1, sigma_2):\n",
    "    probabilities = {node: np.zeros(2) for node in visitation_order}\n",
    "    predecessors = {node: [0, 0] for node in visitation_order}\n",
    "    \n",
    "    for node in visitation_order:\n",
    "        for state in [0, 1]:\n",
    "            local_prob = local_likelihood(Y[node-1], state, mu, sigma_1, sigma_2)\n",
    "            if node == visitation_order[0]:\n",
    "                probabilities[node][state] = local_prob\n",
    "            else:\n",
    "                max_prob = float('-inf')\n",
    "                max_prev_state = 0\n",
    "                for prev_state in [0, 1]:\n",
    "                    # The max probability and state from previous node's perspective\n",
    "                    neighbor_max_prob = float('-inf')\n",
    "                    for neighbor in neighbors[node]:\n",
    "                        prob_from_prev = probabilities[neighbor][prev_state] + np.log(np.exp(2 * abs(state - prev_state) - 1))\n",
    "                        if prob_from_prev > neighbor_max_prob:\n",
    "                            neighbor_max_prob = prob_from_prev\n",
    "                    # Compare with overall max probability for current state\n",
    "                    if neighbor_max_prob > max_prob:\n",
    "                        max_prob = neighbor_max_prob\n",
    "                        max_prev_state = prev_state\n",
    "                probabilities[node][state] = max_prob + local_prob\n",
    "                predecessors[node][state] = max_prev_state\n",
    "    \n",
    "    # Backtrace to find the MAP estimate\n",
    "    MAP_estimate = np.zeros(len(Y), dtype=int)\n",
    "    last_node = visitation_order[-1]\n",
    "    last_state = np.argmax(probabilities[last_node])\n",
    "    MAP_estimate[last_node-1] = last_state\n",
    "\n",
    "    for node in reversed(visitation_order[:-1]):\n",
    "        last_state = predecessors[node][last_state]\n",
    "        MAP_estimate[node-1] = last_state\n",
    "\n",
    "    # log probability of the MAP estimate given Y\n",
    "    log_P_MAP_given_Y = np.sum([probabilities[node][MAP_estimate[node-1]] for node in visitation_order])\n",
    "    P_MAP_given_Y = np.exp(log_P_MAP_given_Y)\n",
    "\n",
    "    return MAP_estimate, P_MAP_given_Y, log_P_MAP_given_Y\n",
    "\n",
    "\n",
    "MAP_estimate, P_MAP_given_Y, log_P_MAP_given_Y = compute_MAP(Y, visitation_order, neighbors, mu, sigma_1, sigma_2)\n",
    "P_MAP_given_Y_normalized = np.exp(log_P_MAP_given_Y - log_Zx)\n",
    "print('hat_X =', MAP_estimate)\n",
    "print('P_hatX_given_Y =', P_MAP_given_Y)\n",
    "print('log_P_MAP_given_Y =', log_P_MAP_given_Y)\n",
    "print('P_MAP_given_Y_normalized =', P_MAP_given_Y_normalized)\n"
   ]
  },
  {
   "cell_type": "markdown",
   "metadata": {},
   "source": [
    "2 c) From our maximum a posteriori (MAP) estimate $\\hat{X},$ we find that pixels (states) $3,4,5,$ and $8$ are estimated to be water. The probability of our MAP estimate given the observed vegetation indices is\n",
    "$$\\mathbb{P}(\\hat{X}|Y) \\approx 6.57\\times10^{\\text{-}16}.$$"
   ]
  },
  {
   "cell_type": "code",
   "execution_count": 12,
   "metadata": {},
   "outputs": [
    {
     "name": "stdout",
     "output_type": "stream",
     "text": [
      "P(X_5 = Water|Y) = 0.9940276996312749\n",
      "P(X_5 = Dry|Y) = 0.005972300368725126\n"
     ]
    }
   ],
   "source": [
    "# Problem 2 d)\n",
    "\n",
    "# The local likelihood function for a node given the state\n",
    "def local_likelihood(Y_i, X_i, mu, sigma):\n",
    "    return -0.5 * np.log(2 * np.pi * sigma[X_i]**2) - ((Y_i - mu[X_i])**2) / (2 * sigma[X_i]**2)\n",
    "\n",
    "# Redefine for d) \n",
    "def forward_algorithm(visitation_order, neighbors, Y, mu, sigma):\n",
    "    messages = {node: np.ones(2) for node in visitation_order}\n",
    "    \n",
    "    def calculate_message(current, messages, neighbors):\n",
    "        message = np.zeros(2)\n",
    "        for state in [0, 1]:\n",
    "            product = np.exp(local_likelihood(Y[current-1], state, mu, sigma))\n",
    "            for neighbor in neighbors[current]:\n",
    "                if visitation_order.index(neighbor) < visitation_order.index(current):\n",
    "                    product *= sum(np.exp(2 * abs(state - np.array([0, 1])) - 1) * messages[neighbor])\n",
    "            message[state] = product\n",
    "        return message\n",
    "    \n",
    "    for node in visitation_order:\n",
    "        messages[node] = calculate_message(node, messages, neighbors)\n",
    "        \n",
    "    Zx = sum(messages[visitation_order[-1]])\n",
    "    return messages, np.log(Zx)\n",
    "\n",
    "# Backward algorithm\n",
    "def backward_algorithm(visitation_order, neighbors, Y, mu, sigma):\n",
    "    messages = {node: np.ones(2) for node in visitation_order}\n",
    "\n",
    "    def calculate_message(current, messages, neighbors):\n",
    "        message = np.zeros(2)\n",
    "        for state in [0, 1]:\n",
    "            product = np.exp(local_likelihood(Y[current-1], state, mu, sigma))\n",
    "            for neighbor in neighbors[current]:\n",
    "                if visitation_order.index(neighbor) > visitation_order.index(current):\n",
    "                    product *= sum(np.exp(2 * abs(state - np.array([0, 1])) - 1) * messages[neighbor])\n",
    "            message[state] = product\n",
    "        return message\n",
    "\n",
    "    # Backtrace\n",
    "    for node in reversed(visitation_order):\n",
    "        messages[node] = calculate_message(node, messages, neighbors)\n",
    "\n",
    "    return messages\n",
    "\n",
    "forward_messages, log_Zx = forward_algorithm(visitation_order, neighbors, Y, mu, sigma)\n",
    "backward_messages = backward_algorithm(visitation_order, neighbors, Y, mu, sigma)\n",
    "\n",
    "# Compute the marginal probabilities.\n",
    "def compute_marginal(node, forward_messages, backward_messages, log_Zx):\n",
    "    marginal = forward_messages[node] * backward_messages[node]\n",
    "    marginal /= np.exp(log_Zx)  \n",
    "    return marginal\n",
    "\n",
    "# Marginal for pixel 5\n",
    "pixel_5_marginal = compute_marginal(5, forward_messages, backward_messages, log_Zx)\n",
    "pixel_5_marginal\n",
    "\n",
    "# Normalize the marginal probabilities for pixel 5\n",
    "pixel_5_marginal_normalized = pixel_5_marginal / np.sum(pixel_5_marginal)\n",
    "print('P(X_5 = Water|Y) =', pixel_5_marginal_normalized[1])\n",
    "print('P(X_5 = Dry|Y) =', pixel_5_marginal_normalized[0])\n"
   ]
  },
  {
   "cell_type": "markdown",
   "metadata": {},
   "source": [
    "d) The probability that pixel 5 is water given the observed vegatation indices is $0.99$, near $1.$ This is in agreement with $\\hat{X}$, as our MAP estimate predicts state 5 to be water. However, the extremely low conditional probability (posterior) $\\mathbb{P}(\\hat{X}|Y)$ gives us little confidence in our estimate. Ultimately, it is reasonable to conclude that our MAP estimate is accurate despite the low posterior probability, since the high number of possible MAP estimates may interfere with our posterior calculation, in fact deflating it. "
   ]
  }
 ],
 "metadata": {
  "kernelspec": {
   "display_name": "Python 3",
   "language": "python",
   "name": "python3"
  },
  "language_info": {
   "codemirror_mode": {
    "name": "ipython",
    "version": 3
   },
   "file_extension": ".py",
   "mimetype": "text/x-python",
   "name": "python",
   "nbconvert_exporter": "python",
   "pygments_lexer": "ipython3",
   "version": "3.12.3"
  }
 },
 "nbformat": 4,
 "nbformat_minor": 2
}
